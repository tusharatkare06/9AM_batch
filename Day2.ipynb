{
  "nbformat": 4,
  "nbformat_minor": 0,
  "metadata": {
    "colab": {
      "provenance": []
    },
    "kernelspec": {
      "name": "python3",
      "display_name": "Python 3"
    },
    "language_info": {
      "name": "python"
    }
  },
  "cells": [
    {
      "cell_type": "code",
      "execution_count": 1,
      "metadata": {
        "id": "JjBbyRkKINti"
      },
      "outputs": [],
      "source": [
        "#comments - note that you want to write. so always use #"
      ]
    },
    {
      "cell_type": "code",
      "source": [
        "''' this\n",
        "is\n",
        "multi\n",
        "line\n",
        "comments'''"
      ],
      "metadata": {
        "colab": {
          "base_uri": "https://localhost:8080/",
          "height": 36
        },
        "id": "N2HisQY5IlFe",
        "outputId": "80955a6f-0772-4375-f770-9a30c32cf04b"
      },
      "execution_count": 2,
      "outputs": [
        {
          "output_type": "execute_result",
          "data": {
            "text/plain": [
              "' this\\nis\\nmulti\\nline\\ncomments'"
            ],
            "application/vnd.google.colaboratory.intrinsic+json": {
              "type": "string"
            }
          },
          "metadata": {},
          "execution_count": 2
        }
      ]
    },
    {
      "cell_type": "code",
      "source": [
        "# Data Types in Python"
      ],
      "metadata": {
        "id": "bngkqE8NIyqx"
      },
      "execution_count": 3,
      "outputs": []
    },
    {
      "cell_type": "code",
      "source": [
        "# string - used to store textual data"
      ],
      "metadata": {
        "id": "Ln6pRXn5JWno"
      },
      "execution_count": 4,
      "outputs": []
    },
    {
      "cell_type": "code",
      "source": [
        "name = \"Tushar\"   # \" \" quotation mark"
      ],
      "metadata": {
        "id": "hTL8tNt0Jk9O"
      },
      "execution_count": 5,
      "outputs": []
    },
    {
      "cell_type": "code",
      "source": [
        "last_name = 'Atkare'"
      ],
      "metadata": {
        "id": "FloZamfvJwVe"
      },
      "execution_count": 6,
      "outputs": []
    },
    {
      "cell_type": "code",
      "source": [
        "middle_name = \"Pralhad\""
      ],
      "metadata": {
        "id": "-ySdsaSPJ3Tl"
      },
      "execution_count": 8,
      "outputs": []
    },
    {
      "cell_type": "code",
      "source": [
        "name"
      ],
      "metadata": {
        "colab": {
          "base_uri": "https://localhost:8080/",
          "height": 36
        },
        "id": "TIX729DFKVWe",
        "outputId": "c6b8880a-3700-4c7d-93c9-3e5a59e64db6"
      },
      "execution_count": 9,
      "outputs": [
        {
          "output_type": "execute_result",
          "data": {
            "text/plain": [
              "'Tushar'"
            ],
            "application/vnd.google.colaboratory.intrinsic+json": {
              "type": "string"
            }
          },
          "metadata": {},
          "execution_count": 9
        }
      ]
    },
    {
      "cell_type": "code",
      "source": [
        "last_name"
      ],
      "metadata": {
        "colab": {
          "base_uri": "https://localhost:8080/",
          "height": 36
        },
        "id": "FFNEhqfGKh36",
        "outputId": "a8b247bd-f420-40a5-d971-e7c5edda5c08"
      },
      "execution_count": 10,
      "outputs": [
        {
          "output_type": "execute_result",
          "data": {
            "text/plain": [
              "'Atkare'"
            ],
            "application/vnd.google.colaboratory.intrinsic+json": {
              "type": "string"
            }
          },
          "metadata": {},
          "execution_count": 10
        }
      ]
    },
    {
      "cell_type": "code",
      "source": [
        "name = \"Bhushan\""
      ],
      "metadata": {
        "id": "8iWRQcGSKlF9"
      },
      "execution_count": 11,
      "outputs": []
    },
    {
      "cell_type": "code",
      "source": [
        "name"
      ],
      "metadata": {
        "colab": {
          "base_uri": "https://localhost:8080/",
          "height": 36
        },
        "id": "M6FH-JrjKo0T",
        "outputId": "c74604ef-29e7-48ce-e3a2-012ec7edaa05"
      },
      "execution_count": 12,
      "outputs": [
        {
          "output_type": "execute_result",
          "data": {
            "text/plain": [
              "'Bhushan'"
            ],
            "application/vnd.google.colaboratory.intrinsic+json": {
              "type": "string"
            }
          },
          "metadata": {},
          "execution_count": 12
        }
      ]
    },
    {
      "cell_type": "code",
      "source": [
        "# how to check ??"
      ],
      "metadata": {
        "id": "4XczoemtKpcE"
      },
      "execution_count": 13,
      "outputs": []
    },
    {
      "cell_type": "code",
      "source": [
        "type(name)"
      ],
      "metadata": {
        "colab": {
          "base_uri": "https://localhost:8080/"
        },
        "id": "xxwHuJPVK1Ac",
        "outputId": "51438ace-2111-4935-9aa8-5a1de682cc96"
      },
      "execution_count": 14,
      "outputs": [
        {
          "output_type": "execute_result",
          "data": {
            "text/plain": [
              "str"
            ]
          },
          "metadata": {},
          "execution_count": 14
        }
      ]
    },
    {
      "cell_type": "code",
      "source": [
        "# Numerical - Integer - all numbers without decimals"
      ],
      "metadata": {
        "id": "dUotP07NK2SZ"
      },
      "execution_count": 15,
      "outputs": []
    },
    {
      "cell_type": "code",
      "source": [
        "a = 20\n",
        "b =30\n",
        "c = 451225455"
      ],
      "metadata": {
        "id": "RHiQXuX6LSn_"
      },
      "execution_count": 16,
      "outputs": []
    },
    {
      "cell_type": "code",
      "source": [
        "type(a)"
      ],
      "metadata": {
        "colab": {
          "base_uri": "https://localhost:8080/"
        },
        "id": "8-5bPxTiLhHq",
        "outputId": "49bcfa43-0da2-4c61-9fb0-d8c2c9ebca0b"
      },
      "execution_count": 17,
      "outputs": [
        {
          "output_type": "execute_result",
          "data": {
            "text/plain": [
              "int"
            ]
          },
          "metadata": {},
          "execution_count": 17
        }
      ]
    },
    {
      "cell_type": "code",
      "source": [
        "# float - Decimal numbers"
      ],
      "metadata": {
        "id": "bk59qtI4LlAp"
      },
      "execution_count": 18,
      "outputs": []
    },
    {
      "cell_type": "code",
      "source": [
        "a = 9.5\n",
        "b= 3.14159"
      ],
      "metadata": {
        "id": "GyRc2ol1LxPT"
      },
      "execution_count": 19,
      "outputs": []
    },
    {
      "cell_type": "code",
      "source": [
        "type(a)"
      ],
      "metadata": {
        "colab": {
          "base_uri": "https://localhost:8080/"
        },
        "id": "WpFGyxbdL1tf",
        "outputId": "0ff1f9dc-6f45-45a5-c660-4a710d1b9940"
      },
      "execution_count": 20,
      "outputs": [
        {
          "output_type": "execute_result",
          "data": {
            "text/plain": [
              "float"
            ]
          },
          "metadata": {},
          "execution_count": 20
        }
      ]
    },
    {
      "cell_type": "code",
      "source": [
        "# complex"
      ],
      "metadata": {
        "id": "tlPuh303L26t"
      },
      "execution_count": 21,
      "outputs": []
    },
    {
      "cell_type": "code",
      "source": [
        " a= 2 + 3j"
      ],
      "metadata": {
        "id": "vJcoFCWpML3C"
      },
      "execution_count": 22,
      "outputs": []
    },
    {
      "cell_type": "code",
      "source": [
        "type(a)"
      ],
      "metadata": {
        "colab": {
          "base_uri": "https://localhost:8080/"
        },
        "id": "7gP-KcFLMPRs",
        "outputId": "56130450-d12c-428a-9125-9efc89f799a5"
      },
      "execution_count": 23,
      "outputs": [
        {
          "output_type": "execute_result",
          "data": {
            "text/plain": [
              "complex"
            ]
          },
          "metadata": {},
          "execution_count": 23
        }
      ]
    },
    {
      "cell_type": "code",
      "source": [
        "# Sequence Type - more than one value"
      ],
      "metadata": {
        "id": "NChRISJkMQUA"
      },
      "execution_count": 24,
      "outputs": []
    },
    {
      "cell_type": "code",
      "source": [
        "#1- list - [ ] - square braces"
      ],
      "metadata": {
        "id": "yiC0TdxDMlVx"
      },
      "execution_count": 25,
      "outputs": []
    },
    {
      "cell_type": "code",
      "source": [
        "a = [10,20,30,40]"
      ],
      "metadata": {
        "id": "wkT6JBtFMwIh"
      },
      "execution_count": 26,
      "outputs": []
    },
    {
      "cell_type": "code",
      "source": [
        "b = [\"Shubham\", \"Ruchira\", \"Rahul\", \"Sneha\"]"
      ],
      "metadata": {
        "id": "k4lVwmZ0M7WH"
      },
      "execution_count": 27,
      "outputs": []
    },
    {
      "cell_type": "code",
      "source": [
        "type(a)"
      ],
      "metadata": {
        "colab": {
          "base_uri": "https://localhost:8080/"
        },
        "id": "hCmoOIK8NEfG",
        "outputId": "06d4aef1-445d-4992-cc6d-1dee871b4da1"
      },
      "execution_count": 28,
      "outputs": [
        {
          "output_type": "execute_result",
          "data": {
            "text/plain": [
              "list"
            ]
          },
          "metadata": {},
          "execution_count": 28
        }
      ]
    },
    {
      "cell_type": "code",
      "source": [
        "#2- tuple - ( ) - paranthesis"
      ],
      "metadata": {
        "id": "VnDehU9TNGz0"
      },
      "execution_count": 29,
      "outputs": []
    },
    {
      "cell_type": "code",
      "source": [
        "a = (10,20,30)"
      ],
      "metadata": {
        "id": "MGP0yzy8NyDM"
      },
      "execution_count": 30,
      "outputs": []
    },
    {
      "cell_type": "code",
      "source": [
        "type(a)"
      ],
      "metadata": {
        "colab": {
          "base_uri": "https://localhost:8080/"
        },
        "id": "ZzxBvbXdN6k4",
        "outputId": "d104fe33-b43c-4c71-8da3-0b6c4f64c71d"
      },
      "execution_count": 31,
      "outputs": [
        {
          "output_type": "execute_result",
          "data": {
            "text/plain": [
              "tuple"
            ]
          },
          "metadata": {},
          "execution_count": 31
        }
      ]
    },
    {
      "cell_type": "code",
      "source": [
        "#3 - set - { } - curly braces"
      ],
      "metadata": {
        "id": "bkCXPak5N7jh"
      },
      "execution_count": 32,
      "outputs": []
    },
    {
      "cell_type": "code",
      "source": [
        "a = {10, 20, 30}"
      ],
      "metadata": {
        "id": "LpreCNZJOMNE"
      },
      "execution_count": 33,
      "outputs": []
    },
    {
      "cell_type": "code",
      "source": [
        "type(a)"
      ],
      "metadata": {
        "colab": {
          "base_uri": "https://localhost:8080/"
        },
        "id": "ozgeLp0kOOa_",
        "outputId": "b8c3c23a-eab9-4a4e-f7ab-fa3f1a7e6684"
      },
      "execution_count": 34,
      "outputs": [
        {
          "output_type": "execute_result",
          "data": {
            "text/plain": [
              "set"
            ]
          },
          "metadata": {},
          "execution_count": 34
        }
      ]
    },
    {
      "cell_type": "code",
      "source": [
        "# dictionary - {key : values}"
      ],
      "metadata": {
        "id": "t0POpmTfOPVb"
      },
      "execution_count": 35,
      "outputs": []
    },
    {
      "cell_type": "code",
      "source": [
        "person = {\"name\": \"Tushar\" , 'age':33}"
      ],
      "metadata": {
        "id": "jhy-7x9EOfXQ"
      },
      "execution_count": 37,
      "outputs": []
    },
    {
      "cell_type": "code",
      "source": [
        "type(person)"
      ],
      "metadata": {
        "colab": {
          "base_uri": "https://localhost:8080/"
        },
        "id": "eSW565qyOzbw",
        "outputId": "53e9e2cd-9571-4558-ad7b-fe48f60abd5c"
      },
      "execution_count": 38,
      "outputs": [
        {
          "output_type": "execute_result",
          "data": {
            "text/plain": [
              "dict"
            ]
          },
          "metadata": {},
          "execution_count": 38
        }
      ]
    },
    {
      "cell_type": "code",
      "source": [
        "# Boolean - True / False"
      ],
      "metadata": {
        "id": "HsA0LbUnPCC2"
      },
      "execution_count": 39,
      "outputs": []
    },
    {
      "cell_type": "code",
      "source": [
        "a = True"
      ],
      "metadata": {
        "id": "IjrBHmdOPYa5"
      },
      "execution_count": 40,
      "outputs": []
    },
    {
      "cell_type": "code",
      "source": [
        "#python is case sensetive language"
      ],
      "metadata": {
        "id": "BXfqa_HiPatq"
      },
      "execution_count": 42,
      "outputs": []
    },
    {
      "cell_type": "code",
      "source": [
        "# name, Name, NAME, NaMe all different variable"
      ],
      "metadata": {
        "id": "FXyqZW4yPdOq"
      },
      "execution_count": 43,
      "outputs": []
    },
    {
      "cell_type": "code",
      "source": [
        "b= False"
      ],
      "metadata": {
        "id": "7DYnxraDPsZd"
      },
      "execution_count": 44,
      "outputs": []
    },
    {
      "cell_type": "code",
      "source": [
        "# blue colors is calles keywords"
      ],
      "metadata": {
        "id": "R_PHT36aPt7B"
      },
      "execution_count": 45,
      "outputs": []
    },
    {
      "cell_type": "code",
      "source": [
        "type(a)"
      ],
      "metadata": {
        "colab": {
          "base_uri": "https://localhost:8080/"
        },
        "id": "JLclT7dEP1PH",
        "outputId": "ccc311b3-ef05-4626-c9ec-61941e698fc7"
      },
      "execution_count": 46,
      "outputs": [
        {
          "output_type": "execute_result",
          "data": {
            "text/plain": [
              "bool"
            ]
          },
          "metadata": {},
          "execution_count": 46
        }
      ]
    },
    {
      "cell_type": "code",
      "source": [
        "# None Type"
      ],
      "metadata": {
        "id": "_xc1xi0UP3rR"
      },
      "execution_count": 47,
      "outputs": []
    },
    {
      "cell_type": "code",
      "source": [
        " a = None"
      ],
      "metadata": {
        "id": "v-MRnAsZQJlN"
      },
      "execution_count": 48,
      "outputs": []
    },
    {
      "cell_type": "code",
      "source": [
        "type(a)"
      ],
      "metadata": {
        "colab": {
          "base_uri": "https://localhost:8080/"
        },
        "id": "3Bzb3zV1QNdG",
        "outputId": "54d602b1-ce1e-403a-dba9-75625a3ef938"
      },
      "execution_count": 49,
      "outputs": [
        {
          "output_type": "execute_result",
          "data": {
            "text/plain": [
              "NoneType"
            ]
          },
          "metadata": {},
          "execution_count": 49
        }
      ]
    },
    {
      "cell_type": "code",
      "source": [],
      "metadata": {
        "id": "NVIxWjXoQPD2"
      },
      "execution_count": null,
      "outputs": []
    },
    {
      "cell_type": "markdown",
      "source": [
        "# Operators"
      ],
      "metadata": {
        "id": "4TLdRWmwQe7G"
      }
    },
    {
      "cell_type": "markdown",
      "source": [
        "#Arithmatic Operators"
      ],
      "metadata": {
        "id": "pOOq4w_lQp8i"
      }
    },
    {
      "cell_type": "code",
      "source": [
        "# addition"
      ],
      "metadata": {
        "id": "j49oaRJrQglU"
      },
      "execution_count": 50,
      "outputs": []
    },
    {
      "cell_type": "code",
      "source": [
        "10 + 20"
      ],
      "metadata": {
        "colab": {
          "base_uri": "https://localhost:8080/"
        },
        "id": "VMLvNivFQwB1",
        "outputId": "de13b1f9-613a-4271-a856-2d32d8c3afb9"
      },
      "execution_count": 51,
      "outputs": [
        {
          "output_type": "execute_result",
          "data": {
            "text/plain": [
              "30"
            ]
          },
          "metadata": {},
          "execution_count": 51
        }
      ]
    },
    {
      "cell_type": "code",
      "source": [
        "result = 20 + 30"
      ],
      "metadata": {
        "id": "8IfRNCuxQxX-"
      },
      "execution_count": 52,
      "outputs": []
    },
    {
      "cell_type": "code",
      "source": [
        "result"
      ],
      "metadata": {
        "colab": {
          "base_uri": "https://localhost:8080/"
        },
        "id": "H-mzbe_5RFv-",
        "outputId": "6f1e5a9b-57d7-416f-f547-3c56d535ca3a"
      },
      "execution_count": 53,
      "outputs": [
        {
          "output_type": "execute_result",
          "data": {
            "text/plain": [
              "50"
            ]
          },
          "metadata": {},
          "execution_count": 53
        }
      ]
    },
    {
      "cell_type": "code",
      "source": [
        "# substraction"
      ],
      "metadata": {
        "id": "AWgo4OzFRHOl"
      },
      "execution_count": 54,
      "outputs": []
    },
    {
      "cell_type": "code",
      "source": [
        "20 - 5"
      ],
      "metadata": {
        "colab": {
          "base_uri": "https://localhost:8080/"
        },
        "id": "wOn8nc47RvHe",
        "outputId": "d027ed6b-3ea8-44e6-e1b8-428da2095405"
      },
      "execution_count": 56,
      "outputs": [
        {
          "output_type": "execute_result",
          "data": {
            "text/plain": [
              "15"
            ]
          },
          "metadata": {},
          "execution_count": 56
        }
      ]
    },
    {
      "cell_type": "code",
      "source": [
        "#multiplication"
      ],
      "metadata": {
        "id": "pREPRntSRwSL"
      },
      "execution_count": 57,
      "outputs": []
    },
    {
      "cell_type": "code",
      "source": [
        "5 * 3"
      ],
      "metadata": {
        "colab": {
          "base_uri": "https://localhost:8080/"
        },
        "id": "1BLM1WaLR0CX",
        "outputId": "25c5eea9-1b1a-4229-9aa2-efdc0e5cc122"
      },
      "execution_count": 58,
      "outputs": [
        {
          "output_type": "execute_result",
          "data": {
            "text/plain": [
              "15"
            ]
          },
          "metadata": {},
          "execution_count": 58
        }
      ]
    },
    {
      "cell_type": "code",
      "source": [
        "# division"
      ],
      "metadata": {
        "id": "cNI6RZRvR43W"
      },
      "execution_count": 59,
      "outputs": []
    },
    {
      "cell_type": "code",
      "source": [
        "5 / 2"
      ],
      "metadata": {
        "colab": {
          "base_uri": "https://localhost:8080/"
        },
        "id": "IYlU0XY2SB2Y",
        "outputId": "4b62b174-25e6-471f-9d94-31bdf35dcd06"
      },
      "execution_count": 60,
      "outputs": [
        {
          "output_type": "execute_result",
          "data": {
            "text/plain": [
              "2.5"
            ]
          },
          "metadata": {},
          "execution_count": 60
        }
      ]
    },
    {
      "cell_type": "code",
      "source": [
        "# floot division"
      ],
      "metadata": {
        "id": "TqZ1sJwySCwS"
      },
      "execution_count": 61,
      "outputs": []
    },
    {
      "cell_type": "code",
      "source": [
        "5 // 2"
      ],
      "metadata": {
        "colab": {
          "base_uri": "https://localhost:8080/"
        },
        "id": "A7CjjqejSM-5",
        "outputId": "a4ceacb1-3cf4-4be9-c555-a3a829aef01d"
      },
      "execution_count": 62,
      "outputs": [
        {
          "output_type": "execute_result",
          "data": {
            "text/plain": [
              "2"
            ]
          },
          "metadata": {},
          "execution_count": 62
        }
      ]
    },
    {
      "cell_type": "code",
      "source": [
        "# modulus (Remainder)"
      ],
      "metadata": {
        "id": "fz8PBv1TSOHY"
      },
      "execution_count": 63,
      "outputs": []
    },
    {
      "cell_type": "code",
      "source": [
        "5 % 2"
      ],
      "metadata": {
        "colab": {
          "base_uri": "https://localhost:8080/"
        },
        "id": "003BnEHNSXIj",
        "outputId": "047c52c7-3bdd-47cf-eb3a-ff045b04ee97"
      },
      "execution_count": 64,
      "outputs": [
        {
          "output_type": "execute_result",
          "data": {
            "text/plain": [
              "1"
            ]
          },
          "metadata": {},
          "execution_count": 64
        }
      ]
    },
    {
      "cell_type": "code",
      "source": [
        "6 % 2"
      ],
      "metadata": {
        "colab": {
          "base_uri": "https://localhost:8080/"
        },
        "id": "aPayojoZSdG_",
        "outputId": "3db24d30-6240-4a79-c1c4-472423de1cd6"
      },
      "execution_count": 65,
      "outputs": [
        {
          "output_type": "execute_result",
          "data": {
            "text/plain": [
              "0"
            ]
          },
          "metadata": {},
          "execution_count": 65
        }
      ]
    },
    {
      "cell_type": "code",
      "source": [
        "#exponentiation  - power of"
      ],
      "metadata": {
        "id": "1ZZefJp0Sh7L"
      },
      "execution_count": 67,
      "outputs": []
    },
    {
      "cell_type": "code",
      "source": [
        "3 ** 2"
      ],
      "metadata": {
        "colab": {
          "base_uri": "https://localhost:8080/"
        },
        "id": "mKPqdryMSrPt",
        "outputId": "d4b066c4-c778-4e7c-db9d-80ffbbcc2831"
      },
      "execution_count": 68,
      "outputs": [
        {
          "output_type": "execute_result",
          "data": {
            "text/plain": [
              "9"
            ]
          },
          "metadata": {},
          "execution_count": 68
        }
      ]
    },
    {
      "cell_type": "code",
      "source": [],
      "metadata": {
        "id": "jJQgMP17SuJ2"
      },
      "execution_count": null,
      "outputs": []
    }
  ]
}