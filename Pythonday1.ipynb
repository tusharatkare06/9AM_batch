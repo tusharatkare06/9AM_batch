{
  "nbformat": 4,
  "nbformat_minor": 0,
  "metadata": {
    "colab": {
      "provenance": []
    },
    "kernelspec": {
      "name": "python3",
      "display_name": "Python 3"
    },
    "language_info": {
      "name": "python"
    }
  },
  "cells": [
    {
      "cell_type": "code",
      "execution_count": 2,
      "metadata": {
        "colab": {
          "base_uri": "https://localhost:8080/"
        },
        "id": "J1KuVwO1LCGX",
        "outputId": "bf2bfd69-ceee-4514-a4c7-e028e7316e5b"
      },
      "outputs": [
        {
          "output_type": "stream",
          "name": "stdout",
          "text": [
            "Hello Students\n"
          ]
        }
      ],
      "source": [
        "print(\"Hello Students\")"
      ]
    },
    {
      "cell_type": "code",
      "source": [
        "tushar = 20\n",
        "sneha = 10\n",
        "\n",
        "tushar + sneha"
      ],
      "metadata": {
        "colab": {
          "base_uri": "https://localhost:8080/"
        },
        "id": "J9BZqlxfLZNj",
        "outputId": "16cc46c7-d251-468f-82d9-0fabbf6f8b13"
      },
      "execution_count": 4,
      "outputs": [
        {
          "output_type": "execute_result",
          "data": {
            "text/plain": [
              "30"
            ]
          },
          "metadata": {},
          "execution_count": 4
        }
      ]
    },
    {
      "cell_type": "code",
      "source": [],
      "metadata": {
        "id": "ASvL-86PLcu_"
      },
      "execution_count": null,
      "outputs": []
    }
  ]
}